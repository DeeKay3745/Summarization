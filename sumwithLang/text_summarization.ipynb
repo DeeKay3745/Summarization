{
 "cells": [
  {
   "cell_type": "code",
   "execution_count": 1,
   "id": "377e5032",
   "metadata": {},
   "outputs": [
    {
     "data": {
      "text/plain": [
       "True"
      ]
     },
     "execution_count": 1,
     "metadata": {},
     "output_type": "execute_result"
    }
   ],
   "source": [
    "import os\n",
    "from dotenv import load_dotenv\n",
    "load_dotenv()"
   ]
  },
  {
   "cell_type": "code",
   "execution_count": 2,
   "id": "e69cd77e",
   "metadata": {},
   "outputs": [
    {
     "data": {
      "text/plain": [
       "ChatGroq(client=<groq.resources.chat.completions.Completions object at 0x10c4a9cf0>, async_client=<groq.resources.chat.completions.AsyncCompletions object at 0x10c5e19f0>, model_name='gemma2-9b-it', model_kwargs={}, groq_api_key=SecretStr('**********'))"
      ]
     },
     "execution_count": 2,
     "metadata": {},
     "output_type": "execute_result"
    }
   ],
   "source": [
    "from langchain_groq import ChatGroq\n",
    "api_key = os.getenv(\"GROQ_API_KEY\")\n",
    "llm = ChatGroq(groq_api_key = api_key, model=\"gemma2-9b-it\")\n",
    "llm"
   ]
  },
  {
   "cell_type": "code",
   "execution_count": 3,
   "id": "bb0b130e",
   "metadata": {},
   "outputs": [],
   "source": [
    "from langchain.schema import (\n",
    "    AIMessage,\n",
    "    HumanMessage,\n",
    "    SystemMessage\n",
    ")"
   ]
  },
  {
   "cell_type": "code",
   "execution_count": 4,
   "id": "159b5842",
   "metadata": {},
   "outputs": [],
   "source": [
    "speech=\"\"\"\n",
    "People across the country, involved in government, political, and social activities, are dedicating their time to make the ‘Viksit Bharat Sankalp Yatra’ (Developed India Resolution Journey) successful. Therefore, as a Member of Parliament, it was my responsibility to also contribute my time to this program. So, today, I have come here just as a Member of Parliament and your ‘sevak’, ready to participate in this program, much like you.\n",
    "\n",
    "In our country, governments have come and gone, numerous schemes have been formulated, discussions have taken place, and big promises have been made. However, my experience and observations led me to believe that the most critical aspect that requires attention is ensuring that the government’s plans reach the intended beneficiaries without any hassles. If there is a ‘Pradhan Mantri Awas Yojana’ (Prime Minister’s housing scheme), then those who are living in jhuggis and slums should get their houses. And he should not need to make rounds of the government offices for this purpose. The government should reach him. Since you have assigned this responsibility to me, about four crore families have got their ‘pucca’ houses. However, I have encountered cases where someone is left out of the government benefits. Therefore, I have decided to tour the country again, to listen to people’s experiences with government schemes, to understand whether they received the intended benefits, and to ensure that the programs are reaching everyone as planned without paying any bribes. We will get the real picture if we visit them again. Therefore, this ‘Viksit Bharat Sankalp Yatra’ is, in a way, my own examination. I want to hear from you and the people across the country whether what I envisioned and the work I have been doing aligns with reality and whether it has reached those for whom it was meant.\n",
    "\n",
    "It is crucial to check whether the work that was supposed to happen has indeed taken place. I recently met some individuals who utilized the Ayushman card to get treatment for serious illnesses. One person met with a severe accident, and after using the card, he could afford the necessary operation, and now he is recovering well. When I asked him, he said: “How could I afford this treatment? Now that there is the Ayushman card, I mustered courage and underwent an operation. Now I am perfectly fine.”  Such stories are blessings to me.\n",
    "\n",
    "The bureaucrats, who prepare good schemes, expedite the paperwork and even allocate funds, also feel satisfied that 50 or 100 people who were supposed to get the funds have got it. The funds meant for a thousand villages have been released. But their job satisfaction peaks when they hear that their work has directly impacted someone’s life positively. When they see the tangible results of their efforts, their enthusiasm multiplies. They feel satisfied. Therefore, ‘Viksit Bharat Sankalp Yatra’ has had a positive impact on government officers. It has made them more enthusiastic about their work, especially when they witness the tangible benefits reaching the people. Officers now feel satisfied with their work, saying, “I made a good plan, I created a file, and the intended beneficiaries received the benefits.” When they find that the money has reached a poor widow under the Jeevan Jyoti scheme and it was a great help to her during her crisis, they realise that they have done a good job. When a government officer listens to such stories, he feels very satisfied.\n",
    "\n",
    "There are very few who understand the power and impact of the ‘Viksit Bharat Sankalp Yatra’. When I hear people connected to bureaucratic circles talking about it, expressing their satisfaction, it resonates with me. I’ve heard stories where someone suddenly received 2 lakh rupees after the death of her husband, and a sister mentioned how the arrival of gas in her home transformed her lives. The most significant aspect is when someone says that the line between rich and poor has vanished. While the slogan ‘Garibi Hatao’ (Remove Poverty) is one thing, but the real change happens when a person says, “As soon as the gas stove came to my house, the distinction between poverty and affluence disappeared.\n",
    "\"\"\""
   ]
  },
  {
   "cell_type": "code",
   "execution_count": 5,
   "id": "95c8f35c",
   "metadata": {},
   "outputs": [],
   "source": [
    "chat_message = [\n",
    "    SystemMessage(content=\"You are expert with experise in summarizing speeched\"),\n",
    "    HumanMessage(content=f\"Please provide a short and concisse summary of the follow speech:\\n Text:{speech}\")\n",
    "]"
   ]
  },
  {
   "cell_type": "code",
   "execution_count": 6,
   "id": "04048a9f",
   "metadata": {},
   "outputs": [
    {
     "name": "stderr",
     "output_type": "stream",
     "text": [
      "/Users/dhaneshkumarkapadia/Desktop/LLMs/Langchain/venv/lib/python3.10/site-packages/tqdm/auto.py:21: TqdmWarning: IProgress not found. Please update jupyter and ipywidgets. See https://ipywidgets.readthedocs.io/en/stable/user_install.html\n",
      "  from .autonotebook import tqdm as notebook_tqdm\n"
     ]
    },
    {
     "data": {
      "text/plain": [
       "909"
      ]
     },
     "execution_count": 6,
     "metadata": {},
     "output_type": "execute_result"
    }
   ],
   "source": [
    "llm.get_num_tokens(speech)"
   ]
  },
  {
   "cell_type": "code",
   "execution_count": 8,
   "id": "9e8b665e",
   "metadata": {},
   "outputs": [
    {
     "data": {
      "text/plain": [
       "AIMessage(content='The speaker, a Member of Parliament, highlights the importance of ensuring government schemes reach their intended beneficiaries.\\n\\nThey describe their \"Viksit Bharat Sankalp Yatra\" (Developed India Resolution Journey) as a way to assess the effectiveness of these programs by personally connecting with people and understanding their experiences. \\n\\nThe speaker shares heartwarming stories of individuals benefiting from schemes like the Prime Minister\\'s housing program and Ayushman health insurance.  \\n\\nThey emphasize how these firsthand accounts bring satisfaction to both the beneficiaries and the government officials involved, demonstrating the tangible impact of these initiatives. \\n\\nUltimately, the \"Viksit Bharat Sankalp Yatra\" aims to bridge the gap between policy and reality, ensuring that government efforts truly translate into positive change for the people. \\n', additional_kwargs={}, response_metadata={'token_usage': {'completion_tokens': 156, 'prompt_tokens': 890, 'total_tokens': 1046, 'completion_time': 0.283636364, 'prompt_time': 0.018963744, 'queue_time': 0.190309179, 'total_time': 0.302600108}, 'model_name': 'gemma2-9b-it', 'system_fingerprint': 'fp_10c08bf97d', 'service_tier': 'on_demand', 'finish_reason': 'stop', 'logprobs': None}, id='run--0449d6f2-f80b-495e-8555-5a732e826c84-0', usage_metadata={'input_tokens': 890, 'output_tokens': 156, 'total_tokens': 1046})"
      ]
     },
     "execution_count": 8,
     "metadata": {},
     "output_type": "execute_result"
    }
   ],
   "source": [
    "##getting the summary\n",
    "llm(chat_message)"
   ]
  },
  {
   "cell_type": "code",
   "execution_count": 7,
   "id": "e390f2e9",
   "metadata": {},
   "outputs": [
    {
     "name": "stderr",
     "output_type": "stream",
     "text": [
      "/var/folders/qp/67f2dsgs4cq3m5kvr0hq47y40000gn/T/ipykernel_1393/1339791998.py:1: LangChainDeprecationWarning: The method `BaseChatModel.__call__` was deprecated in langchain-core 0.1.7 and will be removed in 1.0. Use :meth:`~invoke` instead.\n",
      "  llm(chat_message).content\n"
     ]
    },
    {
     "data": {
      "text/plain": [
       "'This speech emphasizes the importance of ensuring government schemes effectively reach their intended beneficiaries. The speaker, a Member of Parliament, describes their personal journey to understand how programs like the Pradhan Mantri Awas Yojana and Ayushman card are impacting people\\'s lives. \\n\\nThey highlight stories of individuals who have directly benefited from these schemes, emphasizing the tangible impact on their lives. The speaker also notes the positive effect the \"Viksit Bharat Sankalp Yatra\" has had on government officials, who find greater satisfaction in witnessing the direct benefits their work brings to people. \\n\\nUltimately, the speech underscores the power of connecting government initiatives with real-life experiences, bridging the gap between policy and people. \\n\\n'"
      ]
     },
     "execution_count": 7,
     "metadata": {},
     "output_type": "execute_result"
    }
   ],
   "source": [
    "llm(chat_message).content"
   ]
  },
  {
   "cell_type": "markdown",
   "id": "0b5f3a8d",
   "metadata": {},
   "source": [
    "# prompt template text summarization\n"
   ]
  },
  {
   "cell_type": "code",
   "execution_count": 10,
   "id": "a41aaac7",
   "metadata": {},
   "outputs": [
    {
     "data": {
      "text/plain": [
       "PromptTemplate(input_variables=['language', 'speech'], input_types={}, partial_variables={}, template='\\nWrite a summary of the following speech:\\nSpeech:{speech}\\nTranslate the precise summary to {language}\\n')"
      ]
     },
     "execution_count": 10,
     "metadata": {},
     "output_type": "execute_result"
    }
   ],
   "source": [
    "#prompt template text summarization\n",
    "from langchain.chains import LLMChain\n",
    "from langchain import PromptTemplate\n",
    "\n",
    "generictemplate = \"\"\"\n",
    "Write a summary of the following speech:\n",
    "Speech:{speech}\n",
    "Translate the precise summary to {language}\n",
    "\"\"\"\n",
    "\n",
    "prompt = PromptTemplate(\n",
    "    input_variables = ['speech', 'language'],\n",
    "    template = generictemplate\n",
    ")\n",
    "prompt"
   ]
  },
  {
   "cell_type": "code",
   "execution_count": 13,
   "id": "3fbb11e0",
   "metadata": {},
   "outputs": [],
   "source": [
    "complete_prompt = prompt.format(speech = speech, language = \"French\")"
   ]
  },
  {
   "cell_type": "code",
   "execution_count": 15,
   "id": "a701e5ec",
   "metadata": {},
   "outputs": [
    {
     "data": {
      "text/plain": [
       "931"
      ]
     },
     "execution_count": 15,
     "metadata": {},
     "output_type": "execute_result"
    }
   ],
   "source": [
    "llm.get_num_tokens(complete_prompt)"
   ]
  },
  {
   "cell_type": "code",
   "execution_count": 16,
   "id": "9fab54bc",
   "metadata": {},
   "outputs": [
    {
     "name": "stderr",
     "output_type": "stream",
     "text": [
      "/var/folders/qp/67f2dsgs4cq3m5kvr0hq47y40000gn/T/ipykernel_1393/2220893614.py:1: LangChainDeprecationWarning: The class `LLMChain` was deprecated in LangChain 0.1.17 and will be removed in 1.0. Use :meth:`~RunnableSequence, e.g., `prompt | llm`` instead.\n",
      "  llm_chain = LLMChain(llm=llm,prompt=prompt)\n",
      "/var/folders/qp/67f2dsgs4cq3m5kvr0hq47y40000gn/T/ipykernel_1393/2220893614.py:2: LangChainDeprecationWarning: The method `Chain.run` was deprecated in langchain 0.1.0 and will be removed in 1.0. Use :meth:`~invoke` instead.\n",
      "  summary = llm_chain.run({'speech':speech, 'language': 'French'})\n"
     ]
    },
    {
     "data": {
      "text/plain": [
       "'Le discours met en lumière l\\'importance du programme \"Viksit Bharat Sankalp Yatra\" qui vise à s\\'assurer que les programmes gouvernementaux atteignent effectivement les bénéficiaires. L\\'orateur, en tant que membre du Parlement, souligne l\\'importance de visiter les populations et d\\'entendre leurs expériences personnelles avec ces programmes. Il cite des exemples concrets d\\'individus qui ont bénéficié des avantages de ces initiatives, comme le programme d\\'assurance santé \"Ayushman\" ou le programme de logements \"Pradhan Mantri Awas Yojana\". Le but de ce voyage est de vérifier si les projets mis en place sont effectivement réalisés sur le terrain et d\\'identifier les obstacles qui empêchent certains bénéficiaires d\\'accéder aux aides. L\\'orateur souligne également l\\'impact positif que ce programme a sur les fonctionnaires, leur redonnant une motivation accrue à servir le peuple et à constater les résultats tangibles de leurs efforts. Enfin, il met en avant la transformation sociale que ces programmes engendrent, notamment en réduisant les disparités économiques entre les riches et les pauvres.\\n\\n\\n'"
      ]
     },
     "execution_count": 16,
     "metadata": {},
     "output_type": "execute_result"
    }
   ],
   "source": [
    "llm_chain = LLMChain(llm=llm,prompt=prompt)\n",
    "summary = llm_chain.run({'speech':speech, 'language': 'French'})\n",
    "summary"
   ]
  },
  {
   "cell_type": "markdown",
   "id": "31865c43",
   "metadata": {},
   "source": [
    "## StuffDocumentChain Text summarizaton technique"
   ]
  },
  {
   "cell_type": "code",
   "execution_count": null,
   "id": "45bb111f",
   "metadata": {},
   "outputs": [],
   "source": [
    "from langchain_community.document_loaders import PyPDFLoader\n",
    "\n",
    "loader = PyPDFLoader(\"\")\n",
    "pages = loader.load_and_split()"
   ]
  },
  {
   "cell_type": "code",
   "execution_count": null,
   "id": "81cec072",
   "metadata": {},
   "outputs": [],
   "source": []
  }
 ],
 "metadata": {
  "kernelspec": {
   "display_name": "Python 3",
   "language": "python",
   "name": "python3"
  },
  "language_info": {
   "codemirror_mode": {
    "name": "ipython",
    "version": 3
   },
   "file_extension": ".py",
   "mimetype": "text/x-python",
   "name": "python",
   "nbconvert_exporter": "python",
   "pygments_lexer": "ipython3",
   "version": "3.10.0"
  }
 },
 "nbformat": 4,
 "nbformat_minor": 5
}
